{
  "nbformat": 4,
  "nbformat_minor": 0,
  "metadata": {
    "colab": {
      "provenance": [],
      "authorship_tag": "ABX9TyNwHTNzf+KPR/DRCAAiOK4K",
      "include_colab_link": true
    },
    "kernelspec": {
      "name": "python3",
      "display_name": "Python 3"
    },
    "language_info": {
      "name": "python"
    }
  },
  "cells": [
    {
      "cell_type": "markdown",
      "metadata": {
        "id": "view-in-github",
        "colab_type": "text"
      },
      "source": [
        "<a href=\"https://colab.research.google.com/github/JinkyoHan/NAS-SR/blob/main/FEYN_010.ipynb\" target=\"_parent\"><img src=\"https://colab.research.google.com/assets/colab-badge.svg\" alt=\"Open In Colab\"/></a>"
      ]
    },
    {
      "cell_type": "code",
      "source": [
        "!pip install feyn"
      ],
      "metadata": {
        "colab": {
          "base_uri": "https://localhost:8080/"
        },
        "id": "yPUpMcwcMlIe",
        "outputId": "4b6c8b8f-c26b-459f-9ab1-6feb9a48a306"
      },
      "execution_count": 2,
      "outputs": [
        {
          "output_type": "stream",
          "name": "stdout",
          "text": [
            "Collecting feyn\n",
            "  Downloading feyn-3.0.5-cp310-cp310-manylinux_2_5_x86_64.manylinux1_x86_64.manylinux_2_17_x86_64.manylinux2014_x86_64.whl (313 kB)\n",
            "\u001b[2K     \u001b[90m━━━━━━━━━━━━━━━━━━━━━━━━━━━━━━━━━━━━━━━\u001b[0m \u001b[32m313.1/313.1 kB\u001b[0m \u001b[31m5.6 MB/s\u001b[0m eta \u001b[36m0:00:00\u001b[0m\n",
            "\u001b[?25hRequirement already satisfied: numpy>=1.22.0 in /usr/local/lib/python3.10/dist-packages (from feyn) (1.23.5)\n",
            "Collecting pynacl (from feyn)\n",
            "  Downloading PyNaCl-1.5.0-cp36-abi3-manylinux_2_17_x86_64.manylinux2014_x86_64.manylinux_2_24_x86_64.whl (856 kB)\n",
            "\u001b[2K     \u001b[90m━━━━━━━━━━━━━━━━━━━━━━━━━━━━━━━━━━━━━━\u001b[0m \u001b[32m856.7/856.7 kB\u001b[0m \u001b[31m11.6 MB/s\u001b[0m eta \u001b[36m0:00:00\u001b[0m\n",
            "\u001b[?25hRequirement already satisfied: pandas in /usr/local/lib/python3.10/dist-packages (from feyn) (1.5.3)\n",
            "Collecting lark (from feyn)\n",
            "  Downloading lark-1.1.7-py3-none-any.whl (108 kB)\n",
            "\u001b[2K     \u001b[90m━━━━━━━━━━━━━━━━━━━━━━━━━━━━━━━━━━━━━━\u001b[0m \u001b[32m108.9/108.9 kB\u001b[0m \u001b[31m11.4 MB/s\u001b[0m eta \u001b[36m0:00:00\u001b[0m\n",
            "\u001b[?25hCollecting svgwrite (from feyn)\n",
            "  Downloading svgwrite-1.4.3-py3-none-any.whl (67 kB)\n",
            "\u001b[2K     \u001b[90m━━━━━━━━━━━━━━━━━━━━━━━━━━━━━━━━━━━━━━━━\u001b[0m \u001b[32m67.1/67.1 kB\u001b[0m \u001b[31m6.8 MB/s\u001b[0m eta \u001b[36m0:00:00\u001b[0m\n",
            "\u001b[?25hRequirement already satisfied: matplotlib>=3.6.0 in /usr/local/lib/python3.10/dist-packages (from feyn) (3.7.1)\n",
            "Requirement already satisfied: typing-extensions in /usr/local/lib/python3.10/dist-packages (from feyn) (4.5.0)\n",
            "Requirement already satisfied: scikit-learn in /usr/local/lib/python3.10/dist-packages (from feyn) (1.2.2)\n",
            "Requirement already satisfied: sympy in /usr/local/lib/python3.10/dist-packages (from feyn) (1.12)\n",
            "Requirement already satisfied: contourpy>=1.0.1 in /usr/local/lib/python3.10/dist-packages (from matplotlib>=3.6.0->feyn) (1.1.0)\n",
            "Requirement already satisfied: cycler>=0.10 in /usr/local/lib/python3.10/dist-packages (from matplotlib>=3.6.0->feyn) (0.11.0)\n",
            "Requirement already satisfied: fonttools>=4.22.0 in /usr/local/lib/python3.10/dist-packages (from matplotlib>=3.6.0->feyn) (4.42.1)\n",
            "Requirement already satisfied: kiwisolver>=1.0.1 in /usr/local/lib/python3.10/dist-packages (from matplotlib>=3.6.0->feyn) (1.4.5)\n",
            "Requirement already satisfied: packaging>=20.0 in /usr/local/lib/python3.10/dist-packages (from matplotlib>=3.6.0->feyn) (23.1)\n",
            "Requirement already satisfied: pillow>=6.2.0 in /usr/local/lib/python3.10/dist-packages (from matplotlib>=3.6.0->feyn) (9.4.0)\n",
            "Requirement already satisfied: pyparsing>=2.3.1 in /usr/local/lib/python3.10/dist-packages (from matplotlib>=3.6.0->feyn) (3.1.1)\n",
            "Requirement already satisfied: python-dateutil>=2.7 in /usr/local/lib/python3.10/dist-packages (from matplotlib>=3.6.0->feyn) (2.8.2)\n",
            "Requirement already satisfied: pytz>=2020.1 in /usr/local/lib/python3.10/dist-packages (from pandas->feyn) (2023.3.post1)\n",
            "Requirement already satisfied: cffi>=1.4.1 in /usr/local/lib/python3.10/dist-packages (from pynacl->feyn) (1.15.1)\n",
            "Requirement already satisfied: scipy>=1.3.2 in /usr/local/lib/python3.10/dist-packages (from scikit-learn->feyn) (1.11.2)\n",
            "Requirement already satisfied: joblib>=1.1.1 in /usr/local/lib/python3.10/dist-packages (from scikit-learn->feyn) (1.3.2)\n",
            "Requirement already satisfied: threadpoolctl>=2.0.0 in /usr/local/lib/python3.10/dist-packages (from scikit-learn->feyn) (3.2.0)\n",
            "Requirement already satisfied: mpmath>=0.19 in /usr/local/lib/python3.10/dist-packages (from sympy->feyn) (1.3.0)\n",
            "Requirement already satisfied: pycparser in /usr/local/lib/python3.10/dist-packages (from cffi>=1.4.1->pynacl->feyn) (2.21)\n",
            "Requirement already satisfied: six>=1.5 in /usr/local/lib/python3.10/dist-packages (from python-dateutil>=2.7->matplotlib>=3.6.0->feyn) (1.16.0)\n",
            "Installing collected packages: svgwrite, lark, pynacl, feyn\n",
            "Successfully installed feyn-3.0.5 lark-1.1.7 pynacl-1.5.0 svgwrite-1.4.3\n"
          ]
        }
      ]
    },
    {
      "cell_type": "code",
      "execution_count": null,
      "metadata": {
        "colab": {
          "base_uri": "https://localhost:8080/"
        },
        "id": "f59A6Sm4Mig1",
        "outputId": "0571ccae-b150-40b4-f41a-576d5fec12dd"
      },
      "outputs": [
        {
          "output_type": "stream",
          "name": "stdout",
          "text": [
            "Epoch no. 1/500 - Tried 881 models - Elapsed: 3s of 31.5m. (est.)\n",
            "Epoch no. 2/500 - Tried 1983 models - Elapsed: 11s of 47.0m. (est.)\n",
            "Epoch no. 3/500 - Tried 3056 models - Elapsed: 22s of 1.0h. (est.)\n",
            "Epoch no. 4/500 - Tried 4086 models - Elapsed: 34s of 1.2h. (est.)\n",
            "Epoch no. 5/500 - Tried 5113 models - Elapsed: 48s of 1.3h. (est.)\n",
            "Epoch no. 6/500 - Tried 6109 models - Elapsed: 1m 3s of 1.4h. (est.)\n",
            "Epoch no. 7/500 - Tried 7100 models - Elapsed: 1m 17s of 1.5h. (est.)\n",
            "Epoch no. 8/500 - Tried 8056 models - Elapsed: 1m 32s of 1.6h. (est.)\n",
            "Epoch no. 9/500 - Tried 9024 models - Elapsed: 1m 46s of 1.6h. (est.)\n",
            "Epoch no. 10/500 - Tried 10000 models - Elapsed: 2m 1s of 1.7h. (est.)\n",
            "Epoch no. 11/500 - Tried 10924 models - Elapsed: 2m 15s of 1.7h. (est.)\n",
            "Epoch no. 12/500 - Tried 11879 models - Elapsed: 2m 30s of 1.7h. (est.)\n",
            "Epoch no. 13/500 - Tried 12810 models - Elapsed: 2m 45s of 1.8h. (est.)\n",
            "Epoch no. 14/500 - Tried 13706 models - Elapsed: 2m 59s of 1.8h. (est.)\n",
            "Epoch no. 15/500 - Tried 14636 models - Elapsed: 3m 15s of 1.8h. (est.)\n",
            "Epoch no. 16/500 - Tried 15541 models - Elapsed: 3m 30s of 1.8h. (est.)\n",
            "Epoch no. 17/500 - Tried 16437 models - Elapsed: 3m 45s of 1.8h. (est.)\n",
            "Epoch no. 18/500 - Tried 17348 models - Elapsed: 3m 59s of 1.8h. (est.)\n",
            "Epoch no. 19/500 - Tried 18248 models - Elapsed: 4m 14s of 1.9h. (est.)\n",
            "Epoch no. 20/500 - Tried 19172 models - Elapsed: 4m 29s of 1.9h. (est.)\n",
            "Epoch no. 21/500 - Tried 20090 models - Elapsed: 4m 44s of 1.9h. (est.)\n",
            "Epoch no. 22/500 - Tried 20982 models - Elapsed: 5m 0s of 1.9h. (est.)\n",
            "Epoch no. 23/500 - Tried 21825 models - Elapsed: 5m 14s of 1.9h. (est.)\n",
            "Epoch no. 24/500 - Tried 22715 models - Elapsed: 5m 29s of 1.9h. (est.)\n",
            "Epoch no. 25/500 - Tried 23601 models - Elapsed: 5m 44s of 1.9h. (est.)\n",
            "Epoch no. 26/500 - Tried 24464 models - Elapsed: 5m 59s of 1.9h. (est.)\n",
            "Epoch no. 27/500 - Tried 25356 models - Elapsed: 6m 14s of 1.9h. (est.)\n",
            "Epoch no. 28/500 - Tried 26249 models - Elapsed: 6m 30s of 1.9h. (est.)\n",
            "Epoch no. 29/500 - Tried 27146 models - Elapsed: 6m 45s of 1.9h. (est.)\n",
            "Epoch no. 30/500 - Tried 28016 models - Elapsed: 7m 0s of 1.9h. (est.)\n",
            "Epoch no. 31/500 - Tried 28866 models - Elapsed: 7m 15s of 1.9h. (est.)\n"
          ]
        }
      ],
      "source": [
        "import pandas as pd\n",
        "import feyn\n",
        "from feyn.tools import split\n",
        "\n",
        "# Excel 파일에서 데이터 읽기\n",
        "file_path = 'Tbar_Flatbar.xlsx'  # 여기에 실제 파일 경로를 입력하세요\n",
        "sheet_name = 'Sheet1'  # 원하는 시트 이름을 입력하세요. 'Sheet1'은 기본값입니다.\n",
        "df = pd.read_excel(file_path, sheet_name=sheet_name)\n",
        "\n",
        "# 데이터 분리 (훈련용 / 테스트용)\n",
        "train, test = split(df, ratio=(0.8, 0.2), random_state=42)\n",
        "\n",
        "# QLattice 연결\n",
        "ql = feyn.QLattice()\n",
        "\n",
        "# 여기서는 'TARGET'이라는 이름의 열이 종속 변수로 사용된다고 가정하였습니다.\n",
        "# 실제 데이터셋의 종속 변수 이름에 맞게 변경해야 합니다.\n",
        "models = ql.auto_run(train, output_name=\"ULS_YS\", kind='regression',n_epochs=500)\n",
        "\n",
        "\n",
        "# 가장 성능이 좋은 모델 선택\n",
        "best_model = models[0]\n",
        "\n",
        "# 모델 출력\n",
        "print(best_model)\n",
        "\n",
        "# 모델의 그래픽 표현\n",
        "best_model.plot_regression(data=train)\n"
      ]
    }
  ]
}